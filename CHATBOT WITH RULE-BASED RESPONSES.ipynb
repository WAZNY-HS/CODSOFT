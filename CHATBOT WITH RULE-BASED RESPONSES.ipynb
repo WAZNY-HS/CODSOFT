{
 "cells": [
  {
   "cell_type": "code",
   "execution_count": 1,
   "id": "77b8f966",
   "metadata": {},
   "outputs": [
    {
     "name": "stdout",
     "output_type": "stream",
     "text": [
      "Requirement already satisfied: nltk in c:\\users\\wazny\\anaconda3\\lib\\site-packages (3.8.1)\n",
      "Requirement already satisfied: click in c:\\users\\wazny\\anaconda3\\lib\\site-packages (from nltk) (8.0.4)\n",
      "Requirement already satisfied: joblib in c:\\users\\wazny\\anaconda3\\lib\\site-packages (from nltk) (1.2.0)\n",
      "Requirement already satisfied: regex>=2021.8.3 in c:\\users\\wazny\\anaconda3\\lib\\site-packages (from nltk) (2022.7.9)\n",
      "Requirement already satisfied: tqdm in c:\\users\\wazny\\anaconda3\\lib\\site-packages (from nltk) (4.65.0)\n",
      "Requirement already satisfied: colorama in c:\\users\\wazny\\anaconda3\\lib\\site-packages (from click->nltk) (0.4.6)\n"
     ]
    }
   ],
   "source": [
    "!pip install nltk"
   ]
  },
  {
   "cell_type": "markdown",
   "id": "318d1868",
   "metadata": {},
   "source": [
    "# Created by: Shaffon Wazny"
   ]
  },
  {
   "cell_type": "code",
   "execution_count": 2,
   "id": "1419960f",
   "metadata": {},
   "outputs": [],
   "source": [
    "from nltk.chat.util import Chat, reflections"
   ]
  },
  {
   "cell_type": "code",
   "execution_count": 3,
   "id": "a6de838c",
   "metadata": {},
   "outputs": [],
   "source": [
    "# Pairs is a list of patterns and responses.\n",
    "pairs = [\n",
    "    [\n",
    "        r\"(.*)Robot\",\n",
    "        [\"Greetings! How may I assist you today?\"]\n",
    "    ],\n",
    "    [\n",
    "        r\"(.*)question\",\n",
    "        [\"I am here to provide information and assistance.\"]\n",
    "    ],\n",
    "    [\n",
    "        r\"(.*)developed\",\n",
    "        [\"I was developed by Eng. Shaffron Wazny using Python.\"]\n",
    "    ],\n",
    "    [\n",
    "        r\"(.*)alive\",\n",
    "        [\"I am an AI chatbot, always ready to help.\"]\n",
    "    ],\n",
    "    [\n",
    "        r\"(.*)name(.*)\",\n",
    "        [\"Hello %2, how can I help you today?\",]\n",
    "    ],\n",
    "    [\n",
    "        r\"(.*)help(.*)\",\n",
    "        [\"I am here to assist you. What do you need help with?\",]\n",
    "    ],\n",
    "    [\n",
    "        r\"(.*) your name ?\",\n",
    "        [\"I am known as AI Assistant, created by Eng. Shaffron Wazny.\",]\n",
    "    ],\n",
    "    [\n",
    "        r\"how are you (.*) ?\",\n",
    "        [\"I'm a computer program, so I don't have feelings, but I'm here and ready to assist you.\", \"I am always ready to help.\",]\n",
    "    ],\n",
    "    [\n",
    "        r\"sorry (.*)\",\n",
    "        [\"No need to apologize. How can I assist you further?\", \"It's alright. How may I help you?\",]\n",
    "    ],\n",
    "    [\n",
    "        r\"i'm (.*) (good|well|okay|ok)\",\n",
    "        [\"That's great to hear! How may I assist you today?\", \"Good to know. How can I help you?\",]\n",
    "    ],\n",
    "    [\n",
    "        r\"(hi|hey|hello|hola|holla)(.*)\",\n",
    "        [\"Hello! How may I assist you today?\", \"Hey there! What can I do for you?\",]\n",
    "    ],\n",
    "    [\n",
    "        r\"what (.*) want ?\",\n",
    "        [\"I am here to provide information and assistance. How can I help you today?\",]\n",
    "    ],\n",
    "    [\n",
    "        r\"(.*)created(.*)\",\n",
    "        [\"I was created by Eng. Shaffron Wazny using Python's NLTK library.\", \"It's a result of Eng. Shaffron Wazny's programming skills.\",]\n",
    "    ],\n",
    "    [\n",
    "        r\"(.*) (location|city) ?\",\n",
    "        [\"I am a virtual assistant, but I operate from Colombo, Sri Lanka.\",]\n",
    "    ],\n",
    "    [\n",
    "        r\"(.*)raining in (.*)\",\n",
    "        [\"I don't have real-time weather information, but I can help with other queries. How may I assist you?\",]\n",
    "    ],\n",
    "    [\n",
    "        r\"how (.*) health (.*)\",\n",
    "        [\"I'm just a computer program, so I don't have health. How may I assist you?\",]\n",
    "    ],\n",
    "    [\n",
    "        r\"(.*)(sports|game|sport)(.*)\",\n",
    "        [\"While I don't play sports, I can provide information about them. What sport are you interested in?\",]\n",
    "    ],\n",
    "    [\n",
    "        r\"who (.*) (Cricketer|Batsman)?\",\n",
    "        [\"Kumar Sangakkara is a renowned cricketer.\", \"Kumar Sangakkara is a notable batsman.\",]\n",
    "    ],\n",
    "    [\n",
    "        r\"quit\",\n",
    "        [\"Bye for now. If you have more questions, feel free to ask later.\", \"It was a pleasure assisting you. Have a great day!\"]\n",
    "    ],\n",
    "    [\n",
    "        r\"(.*)business(.*)\",\n",
    "        [\"I can assist you with business-related inquiries. Please provide more details about your business question.\"]\n",
    "    ],\n",
    "    [\n",
    "        r\"(.*)technology(.*)\",\n",
    "        [\"Technology is one of my favorite topics. What specific technology-related question do you have?\"]\n",
    "    ],\n",
    "    [\n",
    "        r\"(.*)software(.*)\",\n",
    "        [\"I have knowledge about various software technologies. What software-related information are you looking for?\"]\n",
    "    ],\n",
    "    [\n",
    "        r\"(.*)latest news(.*)\",\n",
    "        [\"I can provide you with the latest news updates. Please specify the topic or category you're interested in.\"]\n",
    "    ],\n",
    "    [\n",
    "        r\"(.*)professional advice(.*)\",\n",
    "        [\"I can offer professional advice. What specific area would you like advice on?\"]\n",
    "    ],\n",
    "    [\n",
    "        r\"(.*)programming(.*)\",\n",
    "        [\"I'm knowledgeable in various programming languages. Do you have a specific programming question?\"]\n",
    "    ],\n",
    "    [\n",
    "        r\"(.*)career advice(.*)\",\n",
    "        [\"I can provide career advice. Please share more details about your career goals and concerns.\"]\n",
    "    ],\n",
    "    [\n",
    "        r\"(.*)project management(.*)\",\n",
    "        [\"I have expertise in project management. How can I assist you with your project?\"]\n",
    "    ],\n",
    "    [\n",
    "        r\"(.*)data analysis(.*)\",\n",
    "        [\"Data analysis is a powerful tool. What data-related task do you need help with?\"]\n",
    "    ],\n",
    "    [\n",
    "        r\"(.*)professional development(.*)\",\n",
    "        [\"Professional development is crucial. What skills or areas are you looking to develop?\"]\n",
    "    ],\n",
    "    [\n",
    "        r\"(.*)artificial intelligence(.*)\",\n",
    "        [\"Artificial Intelligence is a fascinating field. What AI-related questions do you have?\"]\n",
    "    ],\n",
    "    [\n",
    "        r\"(.*)cybersecurity(.*)\",\n",
    "        [\"Cybersecurity is important. How can I assist you with your cybersecurity concerns?\"]\n",
    "    ],\n",
    "]\n"
   ]
  },
  {
   "cell_type": "code",
   "execution_count": 4,
   "id": "cfd6b71c",
   "metadata": {},
   "outputs": [],
   "source": [
    "my_reflections = {\n",
    "    \"I\": \"you\",\n",
    "    \"me\": \"you\",\n",
    "    \"my\": \"your\",\n",
    "    \"mine\": \"yours\",\n",
    "    \"you\": \"I\",\n",
    "    \"your\": \"my\",\n",
    "    \"yours\": \"mine\",\n",
    "    \"am\": \"are\",\n",
    "    \"are\": \"am\",\n",
    "    \"was\": \"were\",\n",
    "    \"were\": \"was\"\n",
    "}"
   ]
  },
  {
   "cell_type": "code",
   "execution_count": 5,
   "id": "8d7b9191",
   "metadata": {},
   "outputs": [],
   "source": [
    "my_dummy_reflections = {\n",
    "    \"go\": \"gone\",\n",
    "    \"hello\": \"hey there\"\n",
    "}"
   ]
  },
  {
   "cell_type": "code",
   "execution_count": 6,
   "id": "586b6f4f",
   "metadata": {},
   "outputs": [
    {
     "name": "stdout",
     "output_type": "stream",
     "text": [
      "{'i am': 'you are', 'i was': 'you were', 'i': 'you', \"i'm\": 'you are', \"i'd\": 'you would', \"i've\": 'you have', \"i'll\": 'you will', 'my': 'your', 'you are': 'I am', 'you were': 'I was', \"you've\": 'I have', \"you'll\": 'I will', 'your': 'my', 'yours': 'mine', 'you': 'me', 'me': 'you'}\n"
     ]
    }
   ],
   "source": [
    "print(reflections)"
   ]
  },
  {
   "cell_type": "code",
   "execution_count": 7,
   "id": "8d6f10f2",
   "metadata": {},
   "outputs": [],
   "source": [
    "# Create a chatbot using predefined reflections and pairs\n",
    "chat = Chat(pairs, reflections)"
   ]
  },
  {
   "cell_type": "code",
   "execution_count": 8,
   "id": "b33dbeb5",
   "metadata": {},
   "outputs": [
    {
     "name": "stdout",
     "output_type": "stream",
     "text": [
      "<nltk.chat.util.Chat object at 0x00000233831B9F90>\n"
     ]
    }
   ],
   "source": [
    "# Print the chatbot\n",
    "print(chat)"
   ]
  },
  {
   "cell_type": "code",
   "execution_count": null,
   "id": "4395c115",
   "metadata": {},
   "outputs": [],
   "source": [
    "# Start the conversation\n",
    "chat.converse()"
   ]
  }
 ],
 "metadata": {
  "kernelspec": {
   "display_name": "Python 3 (ipykernel)",
   "language": "python",
   "name": "python3"
  },
  "language_info": {
   "codemirror_mode": {
    "name": "ipython",
    "version": 3
   },
   "file_extension": ".py",
   "mimetype": "text/x-python",
   "name": "python",
   "nbconvert_exporter": "python",
   "pygments_lexer": "ipython3",
   "version": "3.11.5"
  }
 },
 "nbformat": 4,
 "nbformat_minor": 5
}
