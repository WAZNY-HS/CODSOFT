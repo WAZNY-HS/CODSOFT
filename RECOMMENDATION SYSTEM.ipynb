{
 "cells": [
  {
   "cell_type": "code",
   "execution_count": null,
   "id": "9f53afdb",
   "metadata": {},
   "outputs": [],
   "source": [
    "pip install scikit-surprise"
   ]
  },
  {
   "cell_type": "markdown",
   "id": "d8dfdcd0",
   "metadata": {},
   "source": [
    "# Created by: Shaffon Wazny"
   ]
  },
  {
   "cell_type": "code",
   "execution_count": null,
   "id": "f7763674",
   "metadata": {},
   "outputs": [],
   "source": [
    "import pandas as pd\n",
    "from surprise import Dataset, Reader, SVD\n",
    "from surprise.model_selection import train_test_split\n",
    "\n",
    "# Sample data \n",
    "data = {\n",
    "    'user_id': [1, 1, 2, 2, 3, 3, 4, 4, 5, 5],\n",
    "    'item_id': ['A', 'B', 'B', 'C', 'C', 'D', 'A', 'D', 'B', 'E'],\n",
    "    'rating': [5, 4, 3, 4, 5, 3, 4, 5, 3, 4],\n",
    "}\n",
    "\n",
    "df = pd.DataFrame(data)\n",
    "\n",
    "# Define the Reader object\n",
    "reader = Reader(rating_scale=(1, 5))\n",
    "\n",
    "# Load the dataset\n",
    "dataset = Dataset.load_from_df(df[['user_id', 'item_id', 'rating']], reader)\n",
    "\n",
    "# Split the data into train and test sets\n",
    "trainset, testset = train_test_split(dataset, test_size=0.2)\n",
    "\n",
    "# Build the collaborative filtering model (SVD algorithm)\n",
    "model = SVD()\n",
    "model.fit(trainset)\n",
    "\n",
    "# Make predictions on the test set\n",
    "predictions = model.test(testset)\n",
    "\n",
    "# Function to get top N movie recommendations for a user\n",
    "def get_top_n_recommendations(predictions, n=5):\n",
    "    top_n = {}\n",
    "    for uid, iid, true_r, est, _ in predictions:\n",
    "        if uid not in top_n:\n",
    "            top_n[uid] = []\n",
    "        top_n[uid].append((iid, est))\n",
    "\n",
    "    # Sort the predictions for each user and get the top N\n",
    "    for uid, user_ratings in top_n.items():\n",
    "        user_ratings.sort(key=lambda x: x[1], reverse=True)\n",
    "        top_n[uid] = user_ratings[:n]\n",
    "\n",
    "    return top_n\n",
    "\n",
    "# Get top 3 recommendations for each user in the test set\n",
    "top_n_recommendations = get_top_n_recommendations(predictions, n=3)\n",
    "\n",
    "# Print the recommendations\n",
    "for uid, user_ratings in top_n_recommendations.items():\n",
    "    print(f\"User {uid}: {user_ratings}\")\n"
   ]
  },
  {
   "cell_type": "code",
   "execution_count": null,
   "id": "d12585d5",
   "metadata": {},
   "outputs": [],
   "source": []
  }
 ],
 "metadata": {
  "kernelspec": {
   "display_name": "Python 3 (ipykernel)",
   "language": "python",
   "name": "python3"
  },
  "language_info": {
   "codemirror_mode": {
    "name": "ipython",
    "version": 3
   },
   "file_extension": ".py",
   "mimetype": "text/x-python",
   "name": "python",
   "nbconvert_exporter": "python",
   "pygments_lexer": "ipython3",
   "version": "3.11.5"
  }
 },
 "nbformat": 4,
 "nbformat_minor": 5
}
